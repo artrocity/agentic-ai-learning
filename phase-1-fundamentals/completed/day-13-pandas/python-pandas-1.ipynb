{
 "cells": [
  {
   "cell_type": "code",
   "execution_count": null,
   "id": "41cac640",
   "metadata": {},
   "outputs": [],
   "source": [
    "\"\"\"\n",
    "[ ] Day 13: Data Analysis with Pandas\n",
    "• Topic: Intro to Pandas, DataFrames, basic operations.\n",
    "• Resource: Pandas Getting Started (official docs).\n",
    "• Task: Create a DataFrame with sample heart rate data and calculate the average.\n",
    "\"\"\"\n",
    "\n",
    "# Day 13\n",
    "# Task: Create a DataFrame with sample heart rate data and calculate the average."
   ]
  },
  {
   "cell_type": "code",
   "execution_count": 2,
   "id": "a9a9d9df",
   "metadata": {},
   "outputs": [],
   "source": [
    "# Imports\n",
    "import pandas as pd"
   ]
  },
  {
   "cell_type": "code",
   "execution_count": 4,
   "id": "52561071",
   "metadata": {},
   "outputs": [],
   "source": [
    "# Create sample heart rate data to turn into a data frame\n",
    "raw_data = {\n",
    "    'heart_rates' : {\n",
    "        '18:00': 110,\n",
    "        '18:01': 102,\n",
    "        '18:02': 112,\n",
    "        '18:03': 115,\n",
    "        '18:04': 108\n",
    "    }\n",
    "}"
   ]
  },
  {
   "cell_type": "code",
   "execution_count": 5,
   "id": "f46b1317",
   "metadata": {},
   "outputs": [
    {
     "name": "stdout",
     "output_type": "stream",
     "text": [
      "       heart_rates\n",
      "18:00          110\n",
      "18:01          102\n",
      "18:02          112\n",
      "18:03          115\n",
      "18:04          108\n"
     ]
    }
   ],
   "source": [
    "df_hr = pd.DataFrame(raw_data)\n",
    "print(df_hr)"
   ]
  },
  {
   "cell_type": "code",
   "execution_count": 7,
   "id": "f0890269",
   "metadata": {},
   "outputs": [
    {
     "name": "stdout",
     "output_type": "stream",
     "text": [
      "Average Heart Rates: 109 BPM\n"
     ]
    }
   ],
   "source": [
    "# Get the average of the heart rates\n",
    "average_hr = df_hr['heart_rates'].mean()\n",
    "print(f'Average Heart Rates: {average_hr:.0f} BPM')"
   ]
  }
 ],
 "metadata": {
  "kernelspec": {
   "display_name": "base",
   "language": "python",
   "name": "python3"
  },
  "language_info": {
   "codemirror_mode": {
    "name": "ipython",
    "version": 3
   },
   "file_extension": ".py",
   "mimetype": "text/x-python",
   "name": "python",
   "nbconvert_exporter": "python",
   "pygments_lexer": "ipython3",
   "version": "3.11.4"
  }
 },
 "nbformat": 4,
 "nbformat_minor": 5
}
