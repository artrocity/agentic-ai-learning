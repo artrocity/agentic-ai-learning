{
 "cells": [
  {
   "cell_type": "code",
   "execution_count": null,
   "id": "6761972a",
   "metadata": {},
   "outputs": [],
   "source": [
    "# Day 15: \n",
    "# Task Use NumPy to calculate the mean and standard deviation of stress levels.\n",
    "\n",
    "# Imports\n",
    "import numpy as np\n",
    "import pandas as pd\n",
    "from matplotlib import pyplot as plt"
   ]
  },
  {
   "cell_type": "code",
   "execution_count": null,
   "id": "ece51da9",
   "metadata": {},
   "outputs": [],
   "source": [
    "# Read data from file into a data frame\n",
    "stress_data = pd.read_csv('stress_levels.csv')"
   ]
  },
  {
   "cell_type": "code",
   "execution_count": null,
   "id": "95392415",
   "metadata": {},
   "outputs": [],
   "source": [
    "# Plot the data onto a line graph\n",
    "plt.plot(stress_data['date'], stress_data['stress_level'])\n",
    "plt.show()"
   ]
  },
  {
   "cell_type": "code",
   "execution_count": 14,
   "id": "736d9c77",
   "metadata": {},
   "outputs": [
    {
     "name": "stdout",
     "output_type": "stream",
     "text": [
      "Results: \n",
      " Mean: 4.06 | Standard Deviation: 1.74\n"
     ]
    }
   ],
   "source": [
    "# Use numpy to calculate the mean\n",
    "\n",
    "# Access the stress levels\n",
    "stress_levels = stress_data['stress_level'].to_numpy()\n",
    "\n",
    "# Calculate the mean\n",
    "mean_stress_levels = np.mean(stress_levels)\n",
    "\n",
    "# Calculate the standard deviation\n",
    "std_stress_levels = np.std(stress_levels)\n",
    "\n",
    "# Print the results\n",
    "print(f'Results: \\n Mean: {mean_stress_levels:.2f} | Standard Deviation: {std_stress_levels:.2f}')\n"
   ]
  }
 ],
 "metadata": {
  "kernelspec": {
   "display_name": "base",
   "language": "python",
   "name": "python3"
  },
  "language_info": {
   "codemirror_mode": {
    "name": "ipython",
    "version": 3
   },
   "file_extension": ".py",
   "mimetype": "text/x-python",
   "name": "python",
   "nbconvert_exporter": "python",
   "pygments_lexer": "ipython3",
   "version": "3.11.4"
  }
 },
 "nbformat": 4,
 "nbformat_minor": 5
}
